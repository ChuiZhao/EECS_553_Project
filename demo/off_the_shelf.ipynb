{
 "cells": [
  {
   "cell_type": "code",
   "execution_count": 1,
   "id": "588f4b91-c655-446c-8022-140a9ee5ea3c",
   "metadata": {},
   "outputs": [
    {
     "name": "stderr",
     "output_type": "stream",
     "text": [
      "/home/yourenz/.conda/envs/proto/lib/python3.9/site-packages/tqdm/auto.py:21: TqdmWarning: IProgress not found. Please update jupyter and ipywidgets. See https://ipywidgets.readthedocs.io/en/stable/user_install.html\n",
      "  from .autonotebook import tqdm as notebook_tqdm\n",
      "/home/yourenz/.local/lib/python3.9/site-packages/torchvision/io/image.py:13: UserWarning: Failed to load image Python extension: /home/yourenz/.local/lib/python3.9/site-packages/torchvision/image.so: undefined symbol: _ZN3c104impl8GPUTrace13gpuTraceStateE\n",
      "  warn(f\"Failed to load image Python extension: {e}\")\n"
     ]
    }
   ],
   "source": [
    "import os\n",
    "import random\n",
    "import sys\n",
    "sys.path.append(\"..\")\n",
    "\n",
    "import torch\n",
    "import torch.nn.functional as F\n",
    "\n",
    "import torchvision as tv\n",
    "\n",
    "import cv2\n",
    "import logging\n",
    "import timm\n",
    "import pandas as pd\n",
    "import numpy as np\n",
    "from tqdm import tqdm\n",
    "import matplotlib.pyplot as plt\n",
    "\n",
    "import proto\n",
    "from src.configs.config import get_cfg\n",
    "from src.data import loader as data_loadersetup\n",
    "import src.utils.logging as logging\n",
    "from train import setup, get_loaders"
   ]
  },
  {
   "cell_type": "code",
   "execution_count": 2,
   "id": "99aba22b-b633-4518-a0ea-5372115fb73e",
   "metadata": {},
   "outputs": [],
   "source": [
    "model_root='/gpfs/accounts/eecs553w23_class_root/eecs553w23_class/shared_data/yourenz_group/pretrained/'\n",
    "cfg_file = '../configs/prompt/cub.yaml'\n",
    "cfg = get_cfg()\n",
    "cfg.merge_from_file(cfg_file)\n",
    "cfg.MODEL.MODEL_ROOT = model_root\n",
    "cfg.DATA.FEATURE = 'sup_vitb16_imagenet21k'\n",
    "cfg.NUM_GPUS = 1\n",
    "cfg.SEED = 42\n",
    "cfg.MODEL.PROMPT.NUM_TOKENS = 100\n",
    "\n",
    "data_path='/gpfs/accounts/eecs598s010w23_class_root/eecs598s010w23_class/shared_data/yourenz_group/datasets/cub'\n",
    "cfg.DATA.DATAPATH = data_path\n",
    "logger = logging.get_logger(\"visual_prompt\")\n",
    "\n",
    "torch.manual_seed(cfg.SEED)\n",
    "np.random.seed(cfg.SEED)\n",
    "random.seed(0)"
   ]
  },
  {
   "cell_type": "markdown",
   "id": "bdd4d09b-b6ef-4319-8f44-193ed5377cb0",
   "metadata": {},
   "source": [
    "# Load model"
   ]
  },
  {
   "cell_type": "code",
   "execution_count": null,
   "id": "03362c20-2925-45bb-8e9b-cde2fea526ad",
   "metadata": {},
   "outputs": [],
   "source": [
    "ckpt_path = \"\"\n",
    "\n"
   ]
  }
 ],
 "metadata": {
  "kernelspec": {
   "display_name": "proto",
   "language": "python",
   "name": "proto"
  },
  "language_info": {
   "codemirror_mode": {
    "name": "ipython",
    "version": 3
   },
   "file_extension": ".py",
   "mimetype": "text/x-python",
   "name": "python",
   "nbconvert_exporter": "python",
   "pygments_lexer": "ipython3",
   "version": "3.9.16"
  }
 },
 "nbformat": 4,
 "nbformat_minor": 5
}
