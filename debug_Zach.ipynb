{
 "cells": [
  {
   "cell_type": "code",
   "execution_count": 1,
   "metadata": {},
   "outputs": [
    {
     "name": "stderr",
     "output_type": "stream",
     "text": [
      "/home/chuizhao/.conda/envs/prompt/lib/python3.7/site-packages/tqdm/auto.py:22: TqdmWarning: IProgress not found. Please update jupyter and ipywidgets. See https://ipywidgets.readthedocs.io/en/stable/user_install.html\n",
      "  from .autonotebook import tqdm as notebook_tqdm\n"
     ]
    }
   ],
   "source": [
    "from src.configs.config import get_cfg\n",
    "from src.models.build_model import build_model\n",
    "import tome\n",
    "import numpy as np\n",
    "import torch\n",
    "from train import get_loaders\n",
    "import src.utils.logging as logging\n"
   ]
  },
  {
   "cell_type": "code",
   "execution_count": 2,
   "metadata": {},
   "outputs": [],
   "source": [
    "def first(iteration):\n",
    "    for i in iteration:\n",
    "        return i"
   ]
  },
  {
   "cell_type": "code",
   "execution_count": 3,
   "metadata": {},
   "outputs": [],
   "source": [
    "model_root='/gpfs/accounts/eecs598s010w23_class_root/eecs598s010w23_class/shared_data/yourenz_group/pretrained/'\n",
    "cfg_file = './configs/prompt/cub.yaml'\n",
    "cfg = get_cfg()\n",
    "cfg.merge_from_file(cfg_file)\n",
    "cfg.MODEL.MODEL_ROOT = model_root\n",
    "cfg.DATA.FEATURE = 'sup_vitb16_imagenet21k'\n",
    "cfg.NUM_GPUS = 0\n",
    "cfg.SEED = 42\n",
    "cfg.MODEL.PROMPT.NUM_TOKENS = 100\n",
    "model_vpt, cur_device = build_model(cfg)"
   ]
  },
  {
   "cell_type": "code",
   "execution_count": 4,
   "metadata": {},
   "outputs": [
    {
     "data": {
      "text/plain": [
       "<All keys matched successfully>"
      ]
     },
     "execution_count": 4,
     "metadata": {},
     "output_type": "execute_result"
    }
   ],
   "source": [
    "ckpt_path = './exps/CUB/sup_vitb16_imagenet21k/lr0.1_wd0.01/run1/important.pth'\n",
    "model_vpt.load_state_dict(torch.load(ckpt_path, map_location='cpu')['model'])"
   ]
  },
  {
   "cell_type": "code",
   "execution_count": 5,
   "metadata": {},
   "outputs": [],
   "source": [
    "data_path='/gpfs/accounts/eecs598s010w23_class_root/eecs598s010w23_class/shared_data/yourenz_group/datasets/cub'\n",
    "cfg.DATA.DATAPATH = data_path"
   ]
  },
  {
   "cell_type": "code",
   "execution_count": 6,
   "metadata": {},
   "outputs": [],
   "source": [
    "logger = logging.get_logger(\"visual_prompt\")\n",
    "train_loader, val_loader, test_loader = get_loaders(cfg, logger)"
   ]
  },
  {
   "cell_type": "code",
   "execution_count": 7,
   "metadata": {},
   "outputs": [],
   "source": [
    "batch = first(test_loader)\n",
    "images = batch['image']\n",
    "img_list = []\n",
    "for img in images:\n",
    "    img_list.append(img[None, ...])"
   ]
  },
  {
   "cell_type": "code",
   "execution_count": null,
   "metadata": {},
   "outputs": [],
   "source": [
    "tome.patch.timm(model_vpt, trace_source=True)\n",
    "model_vpt.r = 13\n",
    "pred = model_vpt(img_list[0])\n",
    "print(model_vpt._tome_info[\"source\"].shape)"
   ]
  },
  {
   "cell_type": "code",
   "execution_count": 35,
   "metadata": {},
   "outputs": [],
   "source": [
    "from PIL import Image\n",
    "from IPython.display import display\n",
    "def tensor_to_image(tensor):\n",
    "    tensor = tensor[0]\n",
    "    tensor = tensor.permute(1, 2, 0)\n",
    "    tensor = tensor*255\n",
    "    tensor = np.array(tensor, dtype=np.uint8)\n",
    "    return Image.fromarray(tensor)"
   ]
  },
  {
   "cell_type": "code",
   "execution_count": 43,
   "metadata": {},
   "outputs": [
    {
     "name": "stdout",
     "output_type": "stream",
     "text": [
      "tensor(0.2333)\n"
     ]
    }
   ],
   "source": [
    "print(img_list[0].mean())\n",
    "img = tensor_to_image(img_list[2])"
   ]
  },
  {
   "cell_type": "code",
   "execution_count": 37,
   "metadata": {},
   "outputs": [
    {
     "data": {
      "image/png": "[encoded data removed]",
      "text/plain": [
       "<PIL.Image.Image image mode=RGB size=224x224>"
      ]
     },
     "metadata": {},
     "output_type": "display_data"
    }
   ],
   "source": [
    "display(img)"
   ]
  },
  {
   "cell_type": "code",
   "execution_count": null,
   "metadata": {},
   "outputs": [],
   "source": []
  }
 ],
 "metadata": {
  "kernelspec": {
   "display_name": "Python 3 (ipykernel)",
   "language": "python",
   "name": "python3"
  },
  "language_info": {
   "codemirror_mode": {
    "name": "ipython",
    "version": 3
   },
   "file_extension": ".py",
   "mimetype": "text/x-python",
   "name": "python",
   "nbconvert_exporter": "python",
   "pygments_lexer": "ipython3",
   "version": "3.9.7"
  },
  "vscode": {
   "interpreter": {
    "hash": "c1ed3ab3156cf61481ae2d3da5358654922986227237307c0f14ab19d64c9255"
   }
  }
 },
 "nbformat": 4,
 "nbformat_minor": 4
}
